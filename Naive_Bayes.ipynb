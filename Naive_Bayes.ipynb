{
  "nbformat": 4,
  "nbformat_minor": 5,
  "metadata": {
    "kernelspec": {
      "display_name": "Python 3",
      "language": "python",
      "name": "python3"
    },
    "language_info": {
      "codemirror_mode": {
        "name": "ipython",
        "version": 3
      },
      "file_extension": ".py",
      "mimetype": "text/x-python",
      "name": "python",
      "nbconvert_exporter": "python",
      "pygments_lexer": "ipython3",
      "version": "3.8.8"
    },
    "colab": {
      "name": "Naive Bayes.ipynb",
      "provenance": []
    }
  },
  "cells": [
    {
      "cell_type": "markdown",
      "metadata": {
        "id": "f8e0a6f6"
      },
      "source": [
        "## Pembuka \n",
        "\n",
        "Bismillahirrahmanirrahim\n",
        "\n",
        "Assalamu'alaikum warahmatullahi wabarakatuh\n",
        "\n",
        "Puji syukur kehadirat Allah Subhana Wata'ala atas limpahan Rahmat dan Hidayah-Nya kepada kita semua. Sholawat serta salam senantiasa tercurah limpahkan kepada baginda Muhammad Rasulullah Salallahualaihiwassalam.\n",
        "\n",
        "Halo para **Pejuang Data**. Selamat berjumpa di pertemuan pertama Program Training **Algoritma Machine Learning** Kelas Mahir.\n",
        "\n",
        "Pada petemuan ini kamu akan belajar:\n",
        "\n",
        "1.   Algoritma Naive Bayes\n",
        "2.   Contoh Perhitungan Manual Algoritma Naive Bayes\n",
        "3.   Naive Bayes Python From Scratch"
      ],
      "id": "f8e0a6f6"
    },
    {
      "cell_type": "markdown",
      "metadata": {
        "id": "afba8e45"
      },
      "source": [
        "## Import Modul"
      ],
      "id": "afba8e45"
    },
    {
      "cell_type": "code",
      "metadata": {
        "id": "cf566eb0"
      },
      "source": [
        "import pandas as pd\n",
        "import numpy as np\n",
        "import matplotlib.pyplot as plt\n",
        "import seaborn as sns\n",
        "sns.set_style(\"darkgrid\")"
      ],
      "id": "cf566eb0",
      "execution_count": 39,
      "outputs": []
    },
    {
      "cell_type": "markdown",
      "metadata": {
        "id": "cf46e378"
      },
      "source": [
        "## Model Klasifikasi Naive Bayes\n",
        "\n",
        "Model klasifikasi Naive Bayes merupakan model klasifikasi dengan dasar gagasan Teorema Bayes dengan asumsi semua variabel prediktornya (X) adalah saling independen. Model Naive Bayes mudah untuk dibangun. Model ini tidak memiliki estimasi parameter iteratif yang kompleks yang membuatnya cocok untuk data yang sangat besar. Terlepas dari kesederhanaannya, model klasifikasi ini sering kali bekerja dengan sangat baik dan banyak digunakan karena sering mengungguli metode klasifikasi yang lebih canggih. Contohnya pada klasifikasi sentimen pada dataset teks, klasifikasi sentimen pada dataset teks, klasifikasi email spam, dan klasifikasi dokumen."
      ],
      "id": "cf46e378"
    },
    {
      "cell_type": "markdown",
      "metadata": {
        "id": "7e5ddcfd"
      },
      "source": [
        "## Algoritma Naive Bayes\n",
        "\n",
        "Teorema Bayes menyajikan cara untuk menghitung probabilitas bersyarat (posterior) $P(Y=y|X=(x_1,x_2,...,x_n))$ dari $P(Y=y),P(X=(x_1,x_2,..,x_n))$ dan $P(X=(x_1,x_2,...,x_n)|Y=y)$. Model klasifikasi Naive Bayes mengasumsikan bahwa pengaruh suatu variabel prediktor $x$ pada kelas tertentu $c$ tidak bergantung pada nilai-nilai prediktornya lainnya. Asumsi ini disebut sebagai _class contional independence_\n",
        "\n",
        "![download.jpg](attachment:download.jpg)\n",
        "\n",
        "1.    $P(Y|X)$ adalah probabilitas bersyarat (posterior) dari kelas (target) dengan suatu prediktor yang diketahui (atribut)\n",
        "2.    $P(Y)$ adalah probabilitas prior dari kelas\n",
        "3.    $P(X|Y)$ adalah likelihood yang merupakan probabilitas prediktor dengan kelas yang diketahui\n",
        "4.    $P(X)$ adalah probabilitas prior dari prediktor (atribut)"
      ],
      "id": "7e5ddcfd"
    },
    {
      "cell_type": "markdown",
      "metadata": {
        "id": "c3997c53"
      },
      "source": [
        "## Penghitungan Manual Metode Klasifikasi Naive Bayes Data Categorical\n",
        "\n",
        "Misal kita memiliki dataset sebagai berikut:"
      ],
      "id": "c3997c53"
    },
    {
      "cell_type": "code",
      "metadata": {
        "colab": {
          "base_uri": "https://localhost:8080/",
          "height": 359
        },
        "id": "520c99f3",
        "outputId": "c54d0380-a466-41bd-8c8c-45a8deddee24"
      },
      "source": [
        "df = pd.DataFrame({'x_1':[0,0,1,0,2,1,0,2,2,1],\n",
        "                  'x_2':[0,1,2,0,2,1,2,0,1,0],\n",
        "                  'y':[0,1,1,1,0,0,1,0,0,0]})\n",
        "df"
      ],
      "id": "520c99f3",
      "execution_count": 40,
      "outputs": [
        {
          "output_type": "execute_result",
          "data": {
            "text/html": [
              "<div>\n",
              "<style scoped>\n",
              "    .dataframe tbody tr th:only-of-type {\n",
              "        vertical-align: middle;\n",
              "    }\n",
              "\n",
              "    .dataframe tbody tr th {\n",
              "        vertical-align: top;\n",
              "    }\n",
              "\n",
              "    .dataframe thead th {\n",
              "        text-align: right;\n",
              "    }\n",
              "</style>\n",
              "<table border=\"1\" class=\"dataframe\">\n",
              "  <thead>\n",
              "    <tr style=\"text-align: right;\">\n",
              "      <th></th>\n",
              "      <th>x_1</th>\n",
              "      <th>x_2</th>\n",
              "      <th>y</th>\n",
              "    </tr>\n",
              "  </thead>\n",
              "  <tbody>\n",
              "    <tr>\n",
              "      <th>0</th>\n",
              "      <td>0</td>\n",
              "      <td>0</td>\n",
              "      <td>0</td>\n",
              "    </tr>\n",
              "    <tr>\n",
              "      <th>1</th>\n",
              "      <td>0</td>\n",
              "      <td>1</td>\n",
              "      <td>1</td>\n",
              "    </tr>\n",
              "    <tr>\n",
              "      <th>2</th>\n",
              "      <td>1</td>\n",
              "      <td>2</td>\n",
              "      <td>1</td>\n",
              "    </tr>\n",
              "    <tr>\n",
              "      <th>3</th>\n",
              "      <td>0</td>\n",
              "      <td>0</td>\n",
              "      <td>1</td>\n",
              "    </tr>\n",
              "    <tr>\n",
              "      <th>4</th>\n",
              "      <td>2</td>\n",
              "      <td>2</td>\n",
              "      <td>0</td>\n",
              "    </tr>\n",
              "    <tr>\n",
              "      <th>5</th>\n",
              "      <td>1</td>\n",
              "      <td>1</td>\n",
              "      <td>0</td>\n",
              "    </tr>\n",
              "    <tr>\n",
              "      <th>6</th>\n",
              "      <td>0</td>\n",
              "      <td>2</td>\n",
              "      <td>1</td>\n",
              "    </tr>\n",
              "    <tr>\n",
              "      <th>7</th>\n",
              "      <td>2</td>\n",
              "      <td>0</td>\n",
              "      <td>0</td>\n",
              "    </tr>\n",
              "    <tr>\n",
              "      <th>8</th>\n",
              "      <td>2</td>\n",
              "      <td>1</td>\n",
              "      <td>0</td>\n",
              "    </tr>\n",
              "    <tr>\n",
              "      <th>9</th>\n",
              "      <td>1</td>\n",
              "      <td>0</td>\n",
              "      <td>0</td>\n",
              "    </tr>\n",
              "  </tbody>\n",
              "</table>\n",
              "</div>"
            ],
            "text/plain": [
              "   x_1  x_2  y\n",
              "0    0    0  0\n",
              "1    0    1  1\n",
              "2    1    2  1\n",
              "3    0    0  1\n",
              "4    2    2  0\n",
              "5    1    1  0\n",
              "6    0    2  1\n",
              "7    2    0  0\n",
              "8    2    1  0\n",
              "9    1    0  0"
            ]
          },
          "metadata": {},
          "execution_count": 40
        }
      ]
    },
    {
      "cell_type": "markdown",
      "metadata": {
        "id": "f6d102f9"
      },
      "source": [
        "Mari kita akan menghitung $P(Y=0|X=(0,2))$ dan $P(Y=1|X=(0,2))$\n",
        "\n",
        "Langkah-langkah adalah sebagai berikut:\n",
        "1.    Menghitung probabilitas prior\n",
        "2.    Menghitung probabilitas Likelihood\n",
        "3.    Mengalikan probabilitas likelihood dan probabilitas prior\n",
        "\n",
        "Berikut contohnya\n",
        "1)    Menghitung probabilitas prior:\n",
        "$$\n",
        "P(Y=0)=\\frac{Jumlah Y = 0}{Jumlah Y = 0 + Jumlah Y = 1} = \\frac{6}{10}\\\\\n",
        "P(Y=1)=\\frac{Jumlah Y = 1}{Jumlah Y = 0 + Jumlah Y = 1} = \\frac{4}{10}\n",
        "$$\n",
        "\n",
        "2)    Menghitung probabilitas prior:\n",
        "$$\n",
        "P(X=(0,2)|Y=0)=\\frac{Jumlah X = (0,2)}{Jumlah Y = 0} = \\frac{0}{6}=6\\\\\n",
        "P(X=(0,2)|Y=1)=\\frac{Jumlah X = (0,2)}{Jumlah Y = 1} = \\frac{1}{10}\n",
        "$$\n",
        "\n",
        "_Cara lain adalah dengan menggunakan teorema Bayes_\n",
        "\n",
        "$$\n",
        "P(X=(0,2)|Y=0)=P(X_1=0|Y=0)*P(X_2=2|Y=1)=\\frac{1}{6}*\\frac{1}{6} = \\frac{1}{36}\\\\\n",
        "P(X=(0,2)|Y=1)=P(X_1=0|Y=1)*P(X_2=2|Y=1)=\\frac{3}{4}*\\frac{2}{4} = \\frac{6}{16}\\\\\n",
        "$$\n",
        "\n",
        "3)    Mengalikan probabilitas likelihood dan probabilitas prior:\n",
        "$$\n",
        "P(Y=0)|X=(0,2))==>\\frac{6}{10}*\\frac{6}{36} = \\frac{24}{160}=0.10\\\\\n",
        "P(Y=1|X=(0,2))=\\frac{4}{10}*\\frac{6}{16} = \\frac{24}{160}=0.15\n",
        "$$\n",
        "\n",
        "Dari hasil terakhir di atas diperoleh bahwa probabilitas muncul kelas $y=1$ dengan syarat $x=(0,2)$ adalah lebih tinggi maka untuk input $x=(0,2)$ hasil klasifikasi adalah $y=1$"
      ],
      "id": "f6d102f9"
    },
    {
      "cell_type": "markdown",
      "metadata": {
        "id": "ca98fa28"
      },
      "source": [
        "## Implementasi pada Python\n",
        "\n",
        "**Import Library**"
      ],
      "id": "ca98fa28"
    },
    {
      "cell_type": "code",
      "metadata": {
        "id": "15a462e2"
      },
      "source": [
        "import pandas as pd\n",
        "import numpy as np"
      ],
      "id": "15a462e2",
      "execution_count": 41,
      "outputs": []
    },
    {
      "cell_type": "code",
      "metadata": {
        "colab": {
          "base_uri": "https://localhost:8080/",
          "height": 359
        },
        "id": "a961a105",
        "outputId": "9648b9e8-13fa-4d97-c8a6-1b9e5dc884c4"
      },
      "source": [
        "# Data Frame Input\n",
        "\n",
        "df = pd.DataFrame({'x_1':[0,0,1,0,2,1,0,2,2,1],\n",
        "                  'x_2':[0,1,2,0,2,1,2,0,1,0],\n",
        "                  'y':[0,1,1,1,0,0,1,0,0,0]})\n",
        "df"
      ],
      "id": "a961a105",
      "execution_count": 42,
      "outputs": [
        {
          "output_type": "execute_result",
          "data": {
            "text/html": [
              "<div>\n",
              "<style scoped>\n",
              "    .dataframe tbody tr th:only-of-type {\n",
              "        vertical-align: middle;\n",
              "    }\n",
              "\n",
              "    .dataframe tbody tr th {\n",
              "        vertical-align: top;\n",
              "    }\n",
              "\n",
              "    .dataframe thead th {\n",
              "        text-align: right;\n",
              "    }\n",
              "</style>\n",
              "<table border=\"1\" class=\"dataframe\">\n",
              "  <thead>\n",
              "    <tr style=\"text-align: right;\">\n",
              "      <th></th>\n",
              "      <th>x_1</th>\n",
              "      <th>x_2</th>\n",
              "      <th>y</th>\n",
              "    </tr>\n",
              "  </thead>\n",
              "  <tbody>\n",
              "    <tr>\n",
              "      <th>0</th>\n",
              "      <td>0</td>\n",
              "      <td>0</td>\n",
              "      <td>0</td>\n",
              "    </tr>\n",
              "    <tr>\n",
              "      <th>1</th>\n",
              "      <td>0</td>\n",
              "      <td>1</td>\n",
              "      <td>1</td>\n",
              "    </tr>\n",
              "    <tr>\n",
              "      <th>2</th>\n",
              "      <td>1</td>\n",
              "      <td>2</td>\n",
              "      <td>1</td>\n",
              "    </tr>\n",
              "    <tr>\n",
              "      <th>3</th>\n",
              "      <td>0</td>\n",
              "      <td>0</td>\n",
              "      <td>1</td>\n",
              "    </tr>\n",
              "    <tr>\n",
              "      <th>4</th>\n",
              "      <td>2</td>\n",
              "      <td>2</td>\n",
              "      <td>0</td>\n",
              "    </tr>\n",
              "    <tr>\n",
              "      <th>5</th>\n",
              "      <td>1</td>\n",
              "      <td>1</td>\n",
              "      <td>0</td>\n",
              "    </tr>\n",
              "    <tr>\n",
              "      <th>6</th>\n",
              "      <td>0</td>\n",
              "      <td>2</td>\n",
              "      <td>1</td>\n",
              "    </tr>\n",
              "    <tr>\n",
              "      <th>7</th>\n",
              "      <td>2</td>\n",
              "      <td>0</td>\n",
              "      <td>0</td>\n",
              "    </tr>\n",
              "    <tr>\n",
              "      <th>8</th>\n",
              "      <td>2</td>\n",
              "      <td>1</td>\n",
              "      <td>0</td>\n",
              "    </tr>\n",
              "    <tr>\n",
              "      <th>9</th>\n",
              "      <td>1</td>\n",
              "      <td>0</td>\n",
              "      <td>0</td>\n",
              "    </tr>\n",
              "  </tbody>\n",
              "</table>\n",
              "</div>"
            ],
            "text/plain": [
              "   x_1  x_2  y\n",
              "0    0    0  0\n",
              "1    0    1  1\n",
              "2    1    2  1\n",
              "3    0    0  1\n",
              "4    2    2  0\n",
              "5    1    1  0\n",
              "6    0    2  1\n",
              "7    2    0  0\n",
              "8    2    1  0\n",
              "9    1    0  0"
            ]
          },
          "metadata": {},
          "execution_count": 42
        }
      ]
    },
    {
      "cell_type": "code",
      "metadata": {
        "id": "fd5ad9b5"
      },
      "source": [
        "# Naive Bayes untuk Data Categorial\n",
        "\n",
        "def prob_prior(df,Y):\n",
        "    label_kelas = sorted(list(df[Y].unique()))\n",
        "    prior=[]\n",
        "    for i in label_kelas:\n",
        "        prior.append(len(df[df[Y]==i])/len(df))\n",
        "    return prior"
      ],
      "id": "fd5ad9b5",
      "execution_count": 43,
      "outputs": []
    },
    {
      "cell_type": "code",
      "metadata": {
        "id": "16b8923d"
      },
      "source": [
        "def likelihood_categorical(df, nama_var, nilai_var, Y, label):\n",
        "    feat = list(df.columns)\n",
        "    df=df[df[Y]==label]\n",
        "    p_x_dgsyrt_y = len(df[df[nama_var]==nilai_var])/len(df)\n",
        "    return p_x_dgsyrt_y"
      ],
      "id": "16b8923d",
      "execution_count": 44,
      "outputs": []
    },
    {
      "cell_type": "code",
      "metadata": {
        "id": "a725c090"
      },
      "source": [
        "def naive_bayes_categorical(df,X,Y):\n",
        "    # mengambil nama kolom\n",
        "    nama_kolom = list(df.columns)[:-1]\n",
        "    \n",
        "    # menghitung prob prior\n",
        "    prior = prob_prior(df,Y)\n",
        "    \n",
        "    Y_pred = []\n",
        "    # Looping pada setiap baris data\n",
        "    for x in X:\n",
        "        # Menghitung likelihood \n",
        "        labels=sorted(list(df[Y].unique()))\n",
        "        likelihood = [1]*len(labels)\n",
        "        for j in range(len(labels)):\n",
        "            for i in range(len(nama_kolom)):\n",
        "                likelihood[j] *= likelihood_categorical(df, nama_kolom[i], x[i], Y, labels[i])\n",
        "                \n",
        "        #menghitung posterior probability\n",
        "        post_prob = [1]*len(labels)\n",
        "        for j in range(len(labels)):\n",
        "            post_prob[j]=likelihood[j]*prior[j]\n",
        "        \n",
        "        Y_pred.append(np.argmax(post_prob))\n",
        "    \n",
        "    return np.array(Y_pred)"
      ],
      "id": "a725c090",
      "execution_count": 45,
      "outputs": []
    },
    {
      "cell_type": "code",
      "metadata": {
        "id": "ced9378d"
      },
      "source": [
        "X = df.iloc[:,:-1].values\n",
        "Y = df.iloc[:,-1].values\n",
        "Y_pred = naive_bayes_categorical(df, X=X, Y=\"y\")"
      ],
      "id": "ced9378d",
      "execution_count": 46,
      "outputs": []
    },
    {
      "cell_type": "code",
      "metadata": {
        "colab": {
          "base_uri": "https://localhost:8080/"
        },
        "id": "0ad3edb7",
        "outputId": "19f8763f-682b-4f13-9adf-d4fd9db7b886"
      },
      "source": [
        "X"
      ],
      "id": "0ad3edb7",
      "execution_count": 47,
      "outputs": [
        {
          "output_type": "execute_result",
          "data": {
            "text/plain": [
              "array([[0, 0],\n",
              "       [0, 1],\n",
              "       [1, 2],\n",
              "       [0, 0],\n",
              "       [2, 2],\n",
              "       [1, 1],\n",
              "       [0, 2],\n",
              "       [2, 0],\n",
              "       [2, 1],\n",
              "       [1, 0]])"
            ]
          },
          "metadata": {},
          "execution_count": 47
        }
      ]
    },
    {
      "cell_type": "code",
      "metadata": {
        "colab": {
          "base_uri": "https://localhost:8080/"
        },
        "id": "b3edf109",
        "outputId": "6f9571f1-a896-443f-bc99-59a25eb8cf1a"
      },
      "source": [
        "Y_pred"
      ],
      "id": "b3edf109",
      "execution_count": 48,
      "outputs": [
        {
          "output_type": "execute_result",
          "data": {
            "text/plain": [
              "array([0, 0, 0, 0, 0, 0, 0, 0, 0, 0])"
            ]
          },
          "metadata": {},
          "execution_count": 48
        }
      ]
    },
    {
      "cell_type": "code",
      "metadata": {
        "colab": {
          "base_uri": "https://localhost:8080/"
        },
        "id": "9916c2a7",
        "outputId": "4478c79d-60a7-4c4a-fbb5-852a5e4f96b6"
      },
      "source": [
        "Y"
      ],
      "id": "9916c2a7",
      "execution_count": 49,
      "outputs": [
        {
          "output_type": "execute_result",
          "data": {
            "text/plain": [
              "array([0, 1, 1, 1, 0, 0, 1, 0, 0, 0])"
            ]
          },
          "metadata": {},
          "execution_count": 49
        }
      ]
    },
    {
      "cell_type": "markdown",
      "metadata": {
        "id": "B9b0BHafPfQj"
      },
      "source": [
        "## Implementasi Pada Data Real\n",
        "\n",
        "**Loading Dataset**"
      ],
      "id": "B9b0BHafPfQj"
    },
    {
      "cell_type": "code",
      "metadata": {
        "colab": {
          "base_uri": "https://localhost:8080/",
          "height": 204
        },
        "id": "iQvuxsWlPsWu",
        "outputId": "a50ddd2a-dfa1-446d-b010-d63eebc76555"
      },
      "source": [
        "data = pd.read_csv('/content/Social_Network_Ads.csv')\n",
        "data.head(5)"
      ],
      "id": "iQvuxsWlPsWu",
      "execution_count": 50,
      "outputs": [
        {
          "output_type": "execute_result",
          "data": {
            "text/html": [
              "<div>\n",
              "<style scoped>\n",
              "    .dataframe tbody tr th:only-of-type {\n",
              "        vertical-align: middle;\n",
              "    }\n",
              "\n",
              "    .dataframe tbody tr th {\n",
              "        vertical-align: top;\n",
              "    }\n",
              "\n",
              "    .dataframe thead th {\n",
              "        text-align: right;\n",
              "    }\n",
              "</style>\n",
              "<table border=\"1\" class=\"dataframe\">\n",
              "  <thead>\n",
              "    <tr style=\"text-align: right;\">\n",
              "      <th></th>\n",
              "      <th>Age</th>\n",
              "      <th>EstimatedSalary</th>\n",
              "      <th>Purchased</th>\n",
              "    </tr>\n",
              "  </thead>\n",
              "  <tbody>\n",
              "    <tr>\n",
              "      <th>0</th>\n",
              "      <td>19</td>\n",
              "      <td>19000</td>\n",
              "      <td>0</td>\n",
              "    </tr>\n",
              "    <tr>\n",
              "      <th>1</th>\n",
              "      <td>35</td>\n",
              "      <td>20000</td>\n",
              "      <td>0</td>\n",
              "    </tr>\n",
              "    <tr>\n",
              "      <th>2</th>\n",
              "      <td>26</td>\n",
              "      <td>43000</td>\n",
              "      <td>0</td>\n",
              "    </tr>\n",
              "    <tr>\n",
              "      <th>3</th>\n",
              "      <td>27</td>\n",
              "      <td>57000</td>\n",
              "      <td>0</td>\n",
              "    </tr>\n",
              "    <tr>\n",
              "      <th>4</th>\n",
              "      <td>19</td>\n",
              "      <td>76000</td>\n",
              "      <td>0</td>\n",
              "    </tr>\n",
              "  </tbody>\n",
              "</table>\n",
              "</div>"
            ],
            "text/plain": [
              "   Age  EstimatedSalary  Purchased\n",
              "0   19            19000          0\n",
              "1   35            20000          0\n",
              "2   26            43000          0\n",
              "3   27            57000          0\n",
              "4   19            76000          0"
            ]
          },
          "metadata": {},
          "execution_count": 50
        }
      ]
    },
    {
      "cell_type": "code",
      "metadata": {
        "id": "_MulVNA6QVf_"
      },
      "source": [
        "from sklearn.model_selection import train_test_split\n",
        "train, test = train_test_split(data, test_size=.3, random_state=41)"
      ],
      "id": "_MulVNA6QVf_",
      "execution_count": 51,
      "outputs": []
    },
    {
      "cell_type": "code",
      "metadata": {
        "id": "8qLREVcjP2Ri"
      },
      "source": [
        "X_test = test.iloc[:,:-1].values\n",
        "Y_test = test.iloc[:,-1].values\n",
        "Y_pred = naive_bayes_categorical(train, X=X_test, Y=\"Purchased\")"
      ],
      "id": "8qLREVcjP2Ri",
      "execution_count": 52,
      "outputs": []
    },
    {
      "cell_type": "code",
      "metadata": {
        "id": "h9yZbkcTQzDV",
        "colab": {
          "base_uri": "https://localhost:8080/"
        },
        "outputId": "8ea96feb-cf26-40aa-d3df-69a0efae1b93"
      },
      "source": [
        "from sklearn.metrics import accuracy_score\n",
        "print(accuracy_score (Y_test, Y_pred))"
      ],
      "id": "h9yZbkcTQzDV",
      "execution_count": 53,
      "outputs": [
        {
          "output_type": "stream",
          "name": "stdout",
          "text": [
            "0.6416666666666667\n"
          ]
        }
      ]
    },
    {
      "cell_type": "markdown",
      "metadata": {
        "id": "04ced347"
      },
      "source": [
        "## Metode Klasifikasi Naive Bayes Data Numerik\n",
        "\n",
        "Misal kita memiliki dataset sebagai berikut:"
      ],
      "id": "04ced347"
    },
    {
      "cell_type": "code",
      "metadata": {
        "id": "219688e9",
        "colab": {
          "base_uri": "https://localhost:8080/",
          "height": 204
        },
        "outputId": "31fc8324-7741-4f44-dfab-57411f850a0b"
      },
      "source": [
        "data = pd.read_csv('/content/Social_Network_Ads.csv')\n",
        "data.head()"
      ],
      "id": "219688e9",
      "execution_count": 54,
      "outputs": [
        {
          "output_type": "execute_result",
          "data": {
            "text/html": [
              "<div>\n",
              "<style scoped>\n",
              "    .dataframe tbody tr th:only-of-type {\n",
              "        vertical-align: middle;\n",
              "    }\n",
              "\n",
              "    .dataframe tbody tr th {\n",
              "        vertical-align: top;\n",
              "    }\n",
              "\n",
              "    .dataframe thead th {\n",
              "        text-align: right;\n",
              "    }\n",
              "</style>\n",
              "<table border=\"1\" class=\"dataframe\">\n",
              "  <thead>\n",
              "    <tr style=\"text-align: right;\">\n",
              "      <th></th>\n",
              "      <th>Age</th>\n",
              "      <th>EstimatedSalary</th>\n",
              "      <th>Purchased</th>\n",
              "    </tr>\n",
              "  </thead>\n",
              "  <tbody>\n",
              "    <tr>\n",
              "      <th>0</th>\n",
              "      <td>19</td>\n",
              "      <td>19000</td>\n",
              "      <td>0</td>\n",
              "    </tr>\n",
              "    <tr>\n",
              "      <th>1</th>\n",
              "      <td>35</td>\n",
              "      <td>20000</td>\n",
              "      <td>0</td>\n",
              "    </tr>\n",
              "    <tr>\n",
              "      <th>2</th>\n",
              "      <td>26</td>\n",
              "      <td>43000</td>\n",
              "      <td>0</td>\n",
              "    </tr>\n",
              "    <tr>\n",
              "      <th>3</th>\n",
              "      <td>27</td>\n",
              "      <td>57000</td>\n",
              "      <td>0</td>\n",
              "    </tr>\n",
              "    <tr>\n",
              "      <th>4</th>\n",
              "      <td>19</td>\n",
              "      <td>76000</td>\n",
              "      <td>0</td>\n",
              "    </tr>\n",
              "  </tbody>\n",
              "</table>\n",
              "</div>"
            ],
            "text/plain": [
              "   Age  EstimatedSalary  Purchased\n",
              "0   19            19000          0\n",
              "1   35            20000          0\n",
              "2   26            43000          0\n",
              "3   27            57000          0\n",
              "4   19            76000          0"
            ]
          },
          "metadata": {},
          "execution_count": 54
        }
      ]
    },
    {
      "cell_type": "markdown",
      "metadata": {
        "id": "f85056d1"
      },
      "source": [
        "Jika kita akan menghitung data numerik, maka ada dua cara, pertama kita ubah ke data categorical, atau dengan pendekatan model distribusi. Artinya kita melakukan fitting dara ke sebuah distribusi standar (misal: distribusi normal).\n",
        "\n",
        "$$p(x)=\\frac{1}{\\sigma\\sqrt{2\\pi}}e^{-\\frac{1}{2}(\\frac{x-\\mu}{\\sigma})^2}$$\n",
        "\n",
        "dimana $\\sigma$ adalah standar deviasi dan $\\mu$ adalah mean"
      ],
      "id": "f85056d1"
    },
    {
      "cell_type": "markdown",
      "metadata": {
        "id": "eafb9628"
      },
      "source": [
        "## Implementasi pada Python\n",
        "\n",
        "**Import Library**"
      ],
      "id": "eafb9628"
    },
    {
      "cell_type": "code",
      "metadata": {
        "id": "c7d8cd56"
      },
      "source": [
        "import pandas as pd\n",
        "import numpy as np"
      ],
      "id": "c7d8cd56",
      "execution_count": 55,
      "outputs": []
    },
    {
      "cell_type": "markdown",
      "metadata": {
        "id": "5456c24e"
      },
      "source": [
        "**DataFrame Input**"
      ],
      "id": "5456c24e"
    },
    {
      "cell_type": "code",
      "metadata": {
        "id": "62bd5044",
        "colab": {
          "base_uri": "https://localhost:8080/",
          "height": 204
        },
        "outputId": "9c789b0d-50cf-4440-f637-6c2946f7d833"
      },
      "source": [
        "data = pd.read_csv('/content/Social_Network_Ads.csv')\n",
        "data.head()"
      ],
      "id": "62bd5044",
      "execution_count": 56,
      "outputs": [
        {
          "output_type": "execute_result",
          "data": {
            "text/html": [
              "<div>\n",
              "<style scoped>\n",
              "    .dataframe tbody tr th:only-of-type {\n",
              "        vertical-align: middle;\n",
              "    }\n",
              "\n",
              "    .dataframe tbody tr th {\n",
              "        vertical-align: top;\n",
              "    }\n",
              "\n",
              "    .dataframe thead th {\n",
              "        text-align: right;\n",
              "    }\n",
              "</style>\n",
              "<table border=\"1\" class=\"dataframe\">\n",
              "  <thead>\n",
              "    <tr style=\"text-align: right;\">\n",
              "      <th></th>\n",
              "      <th>Age</th>\n",
              "      <th>EstimatedSalary</th>\n",
              "      <th>Purchased</th>\n",
              "    </tr>\n",
              "  </thead>\n",
              "  <tbody>\n",
              "    <tr>\n",
              "      <th>0</th>\n",
              "      <td>19</td>\n",
              "      <td>19000</td>\n",
              "      <td>0</td>\n",
              "    </tr>\n",
              "    <tr>\n",
              "      <th>1</th>\n",
              "      <td>35</td>\n",
              "      <td>20000</td>\n",
              "      <td>0</td>\n",
              "    </tr>\n",
              "    <tr>\n",
              "      <th>2</th>\n",
              "      <td>26</td>\n",
              "      <td>43000</td>\n",
              "      <td>0</td>\n",
              "    </tr>\n",
              "    <tr>\n",
              "      <th>3</th>\n",
              "      <td>27</td>\n",
              "      <td>57000</td>\n",
              "      <td>0</td>\n",
              "    </tr>\n",
              "    <tr>\n",
              "      <th>4</th>\n",
              "      <td>19</td>\n",
              "      <td>76000</td>\n",
              "      <td>0</td>\n",
              "    </tr>\n",
              "  </tbody>\n",
              "</table>\n",
              "</div>"
            ],
            "text/plain": [
              "   Age  EstimatedSalary  Purchased\n",
              "0   19            19000          0\n",
              "1   35            20000          0\n",
              "2   26            43000          0\n",
              "3   27            57000          0\n",
              "4   19            76000          0"
            ]
          },
          "metadata": {},
          "execution_count": 56
        }
      ]
    },
    {
      "cell_type": "markdown",
      "metadata": {
        "id": "e891a51d"
      },
      "source": [
        "**EDA for Distribution**"
      ],
      "id": "e891a51d"
    },
    {
      "cell_type": "code",
      "metadata": {
        "id": "0e4e4a08",
        "colab": {
          "base_uri": "https://localhost:8080/",
          "height": 359
        },
        "outputId": "4648c711-a753-4310-8d69-bba5de0a6a3d"
      },
      "source": [
        "data = data[[\"Age\", \"EstimatedSalary\", \"Purchased\"]]\n",
        "data.head(10)"
      ],
      "id": "0e4e4a08",
      "execution_count": 58,
      "outputs": [
        {
          "output_type": "execute_result",
          "data": {
            "text/html": [
              "<div>\n",
              "<style scoped>\n",
              "    .dataframe tbody tr th:only-of-type {\n",
              "        vertical-align: middle;\n",
              "    }\n",
              "\n",
              "    .dataframe tbody tr th {\n",
              "        vertical-align: top;\n",
              "    }\n",
              "\n",
              "    .dataframe thead th {\n",
              "        text-align: right;\n",
              "    }\n",
              "</style>\n",
              "<table border=\"1\" class=\"dataframe\">\n",
              "  <thead>\n",
              "    <tr style=\"text-align: right;\">\n",
              "      <th></th>\n",
              "      <th>Age</th>\n",
              "      <th>EstimatedSalary</th>\n",
              "      <th>Purchased</th>\n",
              "    </tr>\n",
              "  </thead>\n",
              "  <tbody>\n",
              "    <tr>\n",
              "      <th>0</th>\n",
              "      <td>19</td>\n",
              "      <td>19000</td>\n",
              "      <td>0</td>\n",
              "    </tr>\n",
              "    <tr>\n",
              "      <th>1</th>\n",
              "      <td>35</td>\n",
              "      <td>20000</td>\n",
              "      <td>0</td>\n",
              "    </tr>\n",
              "    <tr>\n",
              "      <th>2</th>\n",
              "      <td>26</td>\n",
              "      <td>43000</td>\n",
              "      <td>0</td>\n",
              "    </tr>\n",
              "    <tr>\n",
              "      <th>3</th>\n",
              "      <td>27</td>\n",
              "      <td>57000</td>\n",
              "      <td>0</td>\n",
              "    </tr>\n",
              "    <tr>\n",
              "      <th>4</th>\n",
              "      <td>19</td>\n",
              "      <td>76000</td>\n",
              "      <td>0</td>\n",
              "    </tr>\n",
              "    <tr>\n",
              "      <th>5</th>\n",
              "      <td>27</td>\n",
              "      <td>58000</td>\n",
              "      <td>0</td>\n",
              "    </tr>\n",
              "    <tr>\n",
              "      <th>6</th>\n",
              "      <td>27</td>\n",
              "      <td>84000</td>\n",
              "      <td>0</td>\n",
              "    </tr>\n",
              "    <tr>\n",
              "      <th>7</th>\n",
              "      <td>32</td>\n",
              "      <td>150000</td>\n",
              "      <td>1</td>\n",
              "    </tr>\n",
              "    <tr>\n",
              "      <th>8</th>\n",
              "      <td>25</td>\n",
              "      <td>33000</td>\n",
              "      <td>0</td>\n",
              "    </tr>\n",
              "    <tr>\n",
              "      <th>9</th>\n",
              "      <td>35</td>\n",
              "      <td>65000</td>\n",
              "      <td>0</td>\n",
              "    </tr>\n",
              "  </tbody>\n",
              "</table>\n",
              "</div>"
            ],
            "text/plain": [
              "   Age  EstimatedSalary  Purchased\n",
              "0   19            19000          0\n",
              "1   35            20000          0\n",
              "2   26            43000          0\n",
              "3   27            57000          0\n",
              "4   19            76000          0\n",
              "5   27            58000          0\n",
              "6   27            84000          0\n",
              "7   32           150000          1\n",
              "8   25            33000          0\n",
              "9   35            65000          0"
            ]
          },
          "metadata": {},
          "execution_count": 58
        }
      ]
    },
    {
      "cell_type": "code",
      "metadata": {
        "id": "428f2d60",
        "colab": {
          "base_uri": "https://localhost:8080/",
          "height": 326
        },
        "outputId": "0cbbe35a-ced8-4e8d-a00d-e54eb93662e5"
      },
      "source": [
        "fig, axes = plt.subplots(1, 3, figsize=(18, 6), sharey=True)\n",
        "sns.histplot(data, ax=axes[0], x=\"Age\", kde=True, color='r')\n",
        "sns.histplot(data, ax=axes[1], x=\"EstimatedSalary\", kde=True, color='b')\n",
        "plt.show()"
      ],
      "id": "428f2d60",
      "execution_count": 61,
      "outputs": [
        {
          "output_type": "display_data",
          "data": {
            "image/png": "[encoded data removed]",
            "text/plain": [
              "<Figure size 1296x432 with 3 Axes>"
            ]
          },
          "metadata": {}
        }
      ]
    },
    {
      "cell_type": "code",
      "metadata": {
        "id": "5ad1fd77"
      },
      "source": [
        "def prob_prior(df,Y):\n",
        "    label_kelas=sorted(list(df[Y].unique()))\n",
        "    prior=[]\n",
        "    for i in label_kelas:\n",
        "        prior.append(len(df[df[Y]==i])/len(df))\n",
        "    return prior"
      ],
      "id": "5ad1fd77",
      "execution_count": 62,
      "outputs": []
    },
    {
      "cell_type": "code",
      "metadata": {
        "id": "0e49cc24"
      },
      "source": [
        "def likelihood_gaussian(df, nama_var, nilai_var, Y, label):\n",
        "    feat = list(df.columns)\n",
        "    df=df[df[Y]==label]\n",
        "    mean, std = df[nama_var].mean(), df[nama_var].std()\n",
        "    p_x_dgsyrt_y = (1/(np.sqrt(2*np.pi)*std)) * np.exp(-((nilai_var-mean)**2/(2 * std**2)))\n",
        "    return p_x_dgsyrt_y"
      ],
      "id": "0e49cc24",
      "execution_count": 63,
      "outputs": []
    },
    {
      "cell_type": "code",
      "metadata": {
        "id": "2d200868"
      },
      "source": [
        "def naive_bayes_gaussian(df, X, Y):\n",
        "    # mengambil nama kolom\n",
        "    nama_kolom = list(df.columns)[:-1]\n",
        "\n",
        "    # menghitung prob prior\n",
        "    prior = prob_prior(df, Y)\n",
        "\n",
        "    Y_pred = []\n",
        "    # looping pada setiap baris data\n",
        "    for x in X:\n",
        "        # menghitung likelihood\n",
        "        labels = sorted(list(df[Y].unique()))\n",
        "        likelihood = [1]*len(labels)\n",
        "        for j in range(len(labels)):\n",
        "            for i in range(len(nama_kolom)):\n",
        "                likelihood[j] *= likelihood_gaussian(df, nama_kolom[i], x[i], Y, labels[j])\n",
        "\n",
        "        # menghitung posterior probability\n",
        "        post_prob = [1]*len(labels)\n",
        "        for j in range(len(labels)):\n",
        "            post_prob[j] = likelihood[j] * prior[j]\n",
        "\n",
        "        Y_pred.append(np.argmax(post_prob))\n",
        "\n",
        "    return np.array(Y_pred)"
      ],
      "id": "2d200868",
      "execution_count": 64,
      "outputs": []
    },
    {
      "cell_type": "code",
      "metadata": {
        "id": "8e052294",
        "colab": {
          "base_uri": "https://localhost:8080/"
        },
        "outputId": "4d4dd3a5-1280-4c79-ac29-32b2ca55e4f1"
      },
      "source": [
        "from sklearn.model_selection import train_test_split\n",
        "train, test = train_test_split(data, test_size=.2, random_state=41)\n",
        "\n",
        "X_test = test.iloc[:,:-1].values\n",
        "Y_test = test.iloc[:,-1].values\n",
        "Y_pred = naive_bayes_gaussian(train, X=X_test, Y=\"Purchased\")\n",
        "\n",
        "from sklearn.metrics import confusion_matrix, f1_score\n",
        "print(confusion_matrix(Y_test, Y_pred))\n",
        "print(f1_score(Y_test, Y_pred))"
      ],
      "id": "8e052294",
      "execution_count": 66,
      "outputs": [
        {
          "output_type": "stream",
          "name": "stdout",
          "text": [
            "[[47  3]\n",
            " [ 7 23]]\n",
            "0.8214285714285715\n"
          ]
        }
      ]
    },
    {
      "cell_type": "code",
      "metadata": {
        "id": "1d8c9bde",
        "colab": {
          "base_uri": "https://localhost:8080/"
        },
        "outputId": "5aa0e1c7-ba37-4a1c-af1c-015c6ab7639e"
      },
      "source": [
        "from sklearn.metrics import accuracy_score\n",
        "print(accuracy_score(Y_test, Y_pred))"
      ],
      "id": "1d8c9bde",
      "execution_count": 67,
      "outputs": [
        {
          "output_type": "stream",
          "name": "stdout",
          "text": [
            "0.875\n"
          ]
        }
      ]
    }
  ]
}